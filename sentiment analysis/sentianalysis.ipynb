{
 "cells": [
  {
   "cell_type": "code",
   "execution_count": 3,
   "metadata": {},
   "outputs": [],
   "source": [
    "import random\n",
    "\n",
    "class Sentiment:\n",
    "    Positive='POSITIVE'\n",
    "    Negative='NEGATIVE'\n",
    "    Neutral='NEUTRAL'\n",
    "\n",
    "class Reviews:\n",
    "    def __init__(self, review,score):\n",
    "        self.text=review\n",
    "        self.score=score\n",
    "        self.sentiment=self.get_sentiment()\n",
    "        \n",
    "    def get_sentiment(self):\n",
    "        if(self.score>=4):\n",
    "            return Sentiment.Positive\n",
    "        elif(self.score==3):\n",
    "            return Sentiment.Neutral\n",
    "        else:\n",
    "            return Sentiment.Negative\n",
    "        \n",
    "class Container:\n",
    "    def __init__(self,reviews):\n",
    "        self.reviews=reviews\n",
    "        \n",
    "    def get_text(self):\n",
    "        return [x.text for x in self.reviews]\n",
    "    \n",
    "    def get_sentiment(self):\n",
    "        return [x.sentiment for x in self.reviews]\n",
    "    \n",
    "    def distribute(self):\n",
    "        negativerev=list(filter(lambda x: x.sentiment == Sentiment.Negative,self.reviews))\n",
    "        positiverev=list(filter(lambda x: x.sentiment == Sentiment.Positive,self.reviews))\n",
    "        new=positiverev[:len(negativerev)]\n",
    "        self.reviews=negativerev+new\n",
    "        random.shuffle(self.reviews)"
   ]
  },
  {
   "cell_type": "markdown",
   "metadata": {},
   "source": [
    "Gathering data"
   ]
  },
  {
   "cell_type": "code",
   "execution_count": 4,
   "metadata": {},
   "outputs": [
    {
     "data": {
      "text/plain": [
       "'POSITIVE'"
      ]
     },
     "execution_count": 4,
     "metadata": {},
     "output_type": "execute_result"
    }
   ],
   "source": [
    "import json\n",
    "file=\"./data/booksrev10000.json\"\n",
    "\n",
    "reviews=[]\n",
    "with open(file) as f:\n",
    "    for i in f:\n",
    "        revdata=json.loads(i)\n",
    "        reviews.append(Reviews(revdata['reviewText'],revdata['overall']))\n",
    "\n",
    "reviews[10].sentiment"
   ]
  },
  {
   "cell_type": "markdown",
   "metadata": {},
   "source": [
    "Prep the data"
   ]
  },
  {
   "cell_type": "code",
   "execution_count": 5,
   "metadata": {},
   "outputs": [],
   "source": [
    "from sklearn.model_selection import train_test_split\n",
    "\n",
    "train, test=train_test_split(reviews,test_size=0.3, random_state=30)\n",
    "\n",
    "# x is feature(input-> text), y is target(output-> score)\n",
    "\n",
    "train_container=Container(train)\n",
    "test_container=Container(test)\n",
    "\n",
    "train_container.distribute()\n",
    "train_x= train_container.get_text()\n",
    "train_y= train_container.get_sentiment()\n",
    "\n",
    "test_container.distribute()\n",
    "test_x= test_container.get_text()\n",
    "test_y= test_container.get_sentiment()\n",
    "\n"
   ]
  },
  {
   "cell_type": "markdown",
   "metadata": {},
   "source": [
    "Use Bag of Words (BOW) method to convert text data into numerical data"
   ]
  },
  {
   "cell_type": "code",
   "execution_count": 6,
   "metadata": {},
   "outputs": [],
   "source": [
    "from sklearn.feature_extraction.text import TfidfVectorizer\n",
    "\n",
    "vectorizer=TfidfVectorizer()\n",
    "\n",
    "train_x_vect=vectorizer.fit_transform(train_x)\n",
    "\n",
    "test_x_vect=vectorizer.transform(test_x)\n",
    "\n"
   ]
  },
  {
   "cell_type": "markdown",
   "metadata": {},
   "source": [
    "Now that the data is ready, apply the data to models to see outputs"
   ]
  },
  {
   "cell_type": "markdown",
   "metadata": {},
   "source": [
    "Support vector machine:\n",
    "\n"
   ]
  },
  {
   "cell_type": "code",
   "execution_count": 7,
   "metadata": {},
   "outputs": [
    {
     "name": "stdout",
     "output_type": "stream",
     "text": [
      "['POSITIVE']\n"
     ]
    },
    {
     "data": {
      "text/plain": [
       "'The sad reality of what happens to children raised in an abusive situation. My heart went out to the young man when he was finally faced with the reality. Hi success nd how he managed is a great story.'"
      ]
     },
     "execution_count": 7,
     "metadata": {},
     "output_type": "execute_result"
    }
   ],
   "source": [
    "from sklearn import svm\n",
    "clf_svc= svm.SVC(kernel='linear')\n",
    "clf_svc.fit(train_x_vect,train_y)\n",
    "print(clf_svc.predict(test_x_vect[0]))\n",
    "\n",
    "test_x[0]"
   ]
  },
  {
   "cell_type": "markdown",
   "metadata": {},
   "source": [
    "Decision tree"
   ]
  },
  {
   "cell_type": "code",
   "execution_count": 8,
   "metadata": {},
   "outputs": [
    {
     "data": {
      "text/plain": [
       "array(['POSITIVE'], dtype='<U8')"
      ]
     },
     "execution_count": 8,
     "metadata": {},
     "output_type": "execute_result"
    }
   ],
   "source": [
    "from sklearn.tree import DecisionTreeClassifier\n",
    "\n",
    "clf_dec = DecisionTreeClassifier()\n",
    "clf_dec.fit(train_x_vect,train_y)\n",
    "clf_dec.predict(test_x_vect[0])"
   ]
  },
  {
   "cell_type": "markdown",
   "metadata": {},
   "source": [
    "Gaussian naive bayes"
   ]
  },
  {
   "cell_type": "code",
   "execution_count": 9,
   "metadata": {},
   "outputs": [
    {
     "data": {
      "text/plain": [
       "array(['POSITIVE'], dtype='<U8')"
      ]
     },
     "execution_count": 9,
     "metadata": {},
     "output_type": "execute_result"
    }
   ],
   "source": [
    "from sklearn.naive_bayes import GaussianNB\n",
    "\n",
    "clf_nvb=GaussianNB()\n",
    "clf_nvb.fit(train_x_vect.toarray(), train_y)\n",
    "clf_nvb.predict(test_x_vect[0].toarray())\n"
   ]
  },
  {
   "cell_type": "markdown",
   "metadata": {},
   "source": [
    "Logistic Regression"
   ]
  },
  {
   "cell_type": "code",
   "execution_count": 10,
   "metadata": {},
   "outputs": [
    {
     "data": {
      "text/plain": [
       "array(['POSITIVE'], dtype='<U8')"
      ]
     },
     "execution_count": 10,
     "metadata": {},
     "output_type": "execute_result"
    }
   ],
   "source": [
    "from sklearn.linear_model import LogisticRegression\n",
    "\n",
    "clf_log = LogisticRegression()\n",
    "clf_log.fit(train_x_vect, train_y)\n",
    "clf_log.predict(test_x_vect[0])"
   ]
  },
  {
   "cell_type": "markdown",
   "metadata": {},
   "source": [
    "Now check score of each model to find mean accuracy"
   ]
  },
  {
   "cell_type": "code",
   "execution_count": 11,
   "metadata": {},
   "outputs": [
    {
     "name": "stdout",
     "output_type": "stream",
     "text": [
      "0.860655737704918\n",
      "0.674863387978142\n",
      "0.6065573770491803\n",
      "0.8524590163934426\n"
     ]
    }
   ],
   "source": [
    "print(clf_svc.score(test_x_vect,test_y))\n",
    "print(clf_dec.score(test_x_vect,test_y))\n",
    "print(clf_nvb.score(test_x_vect.toarray(),test_y))\n",
    "print(clf_log.score(test_x_vect,test_y))"
   ]
  },
  {
   "cell_type": "markdown",
   "metadata": {},
   "source": [
    "Check f1 scores of the models"
   ]
  },
  {
   "cell_type": "code",
   "execution_count": 12,
   "metadata": {},
   "outputs": [
    {
     "name": "stdout",
     "output_type": "stream",
     "text": [
      "[0.85950413 0.86178862]\n",
      "[0.67750678 0.67217631]\n",
      "[0.61904762 0.59322034]\n",
      "[0.85326087 0.85164835]\n"
     ]
    }
   ],
   "source": [
    "from sklearn.metrics import f1_score\n",
    "\n",
    "print(f1_score(test_y,clf_svc.predict(test_x_vect),average=None,labels=[Sentiment.Positive,Sentiment.Negative]))\n",
    "print(f1_score(test_y,clf_dec.predict(test_x_vect),average=None,labels=[Sentiment.Positive,Sentiment.Negative]))\n",
    "print(f1_score(test_y,clf_nvb.predict(test_x_vect.toarray()),average=None,labels=[Sentiment.Positive,Sentiment.Negative]))\n",
    "print(f1_score(test_y,clf_log.predict(test_x_vect),average=None,labels=[Sentiment.Positive,Sentiment.Negative]))"
   ]
  },
  {
   "cell_type": "markdown",
   "metadata": {},
   "source": [
    "Improving the model (dividing the data equally so that the data is not biased)"
   ]
  },
  {
   "cell_type": "code",
   "execution_count": 13,
   "metadata": {},
   "outputs": [
    {
     "name": "stdout",
     "output_type": "stream",
     "text": [
      "461\n",
      "461\n",
      "922\n",
      "183\n",
      "183\n",
      "366\n"
     ]
    }
   ],
   "source": [
    "print(train_y.count(Sentiment.Positive))\n",
    "print(train_y.count(Sentiment.Negative))\n",
    "print(len(train_x))\n",
    "print(test_y.count(Sentiment.Positive))\n",
    "print(test_y.count(Sentiment.Negative))\n",
    "print(len(test_x))"
   ]
  },
  {
   "cell_type": "code",
   "execution_count": 14,
   "metadata": {},
   "outputs": [
    {
     "name": "stdout",
     "output_type": "stream",
     "text": [
      "['POSITIVE' 'NEGATIVE' 'NEGATIVE']\n",
      "['POSITIVE' 'NEGATIVE' 'NEGATIVE']\n",
      "['POSITIVE' 'POSITIVE' 'NEGATIVE']\n",
      "['POSITIVE' 'NEGATIVE' 'NEGATIVE']\n"
     ]
    }
   ],
   "source": [
    "test_set = ['very fun', \"bad book do not buy\", 'horrible waste of time']\n",
    "new_data=vectorizer.transform(test_set)\n",
    "print(clf_svc.predict(new_data))\n",
    "print(clf_dec.predict(new_data))\n",
    "print(clf_nvb.predict(new_data.toarray()))\n",
    "print(clf_log.predict(new_data))\n"
   ]
  },
  {
   "cell_type": "markdown",
   "metadata": {},
   "source": [
    "Saving our model (using pickle)"
   ]
  },
  {
   "cell_type": "code",
   "execution_count": 15,
   "metadata": {},
   "outputs": [],
   "source": [
    "import pickle"
   ]
  },
  {
   "cell_type": "code",
   "execution_count": 16,
   "metadata": {},
   "outputs": [],
   "source": [
    "with open('./models/sentiment_classifier.pkl','+wb') as b:\n",
    "    pickle.dump(clf_svc,b)"
   ]
  },
  {
   "cell_type": "code",
   "execution_count": 17,
   "metadata": {},
   "outputs": [],
   "source": [
    "with open('./models/sentiment_classifier.pkl','+rb') as b:\n",
    "    load_clf= pickle.load(b)"
   ]
  },
  {
   "cell_type": "code",
   "execution_count": 18,
   "metadata": {},
   "outputs": [
    {
     "name": "stdout",
     "output_type": "stream",
     "text": [
      "The sad reality of what happens to children raised in an abusive situation. My heart went out to the young man when he was finally faced with the reality. Hi success nd how he managed is a great story.\n"
     ]
    },
    {
     "data": {
      "text/plain": [
       "array(['POSITIVE'], dtype='<U8')"
      ]
     },
     "execution_count": 18,
     "metadata": {},
     "output_type": "execute_result"
    }
   ],
   "source": [
    "print(test_x[0])\n",
    "load_clf.predict(test_x_vect[0])"
   ]
  },
  {
   "cell_type": "markdown",
   "metadata": {},
   "source": [
    "Drawing a heatmap\n"
   ]
  },
  {
   "cell_type": "code",
   "execution_count": 28,
   "metadata": {},
   "outputs": [],
   "source": [
    "from sklearn.metrics import confusion_matrix\n",
    "import pandas as pd\n",
    "import matplotlib as plt\n",
    "import seaborn as sn\n",
    "\n",
    "svc_pred=clf_svc.predict(test_x_vect)\n",
    "dec_pred=clf_dec.predict(test_x_vect)\n",
    "nvb_pred=clf_nvb.predict(test_x_vect.toarray())\n",
    "log_pred=clf_log.predict(test_x_vect)\n",
    "\n",
    "lbls=[Sentiment.Positive, Sentiment.Negative]\n",
    "\n",
    "svc_cm=confusion_matrix(test_y,svc_pred,labels=lbls)\n",
    "dec_cm=confusion_matrix(test_y,dec_pred,labels=lbls)\n",
    "nvb_cm=confusion_matrix(test_y,nvb_pred,labels=lbls)\n",
    "log_cm=confusion_matrix(test_y,log_pred,labels=lbls)"
   ]
  },
  {
   "cell_type": "markdown",
   "metadata": {},
   "source": [
    "Svc heatmap"
   ]
  },
  {
   "cell_type": "code",
   "execution_count": 35,
   "metadata": {},
   "outputs": [
    {
     "data": {
      "text/plain": [
       "<Axes: >"
      ]
     },
     "execution_count": 35,
     "metadata": {},
     "output_type": "execute_result"
    },
    {
     "data": {
      "image/png": "[encoded data removed]",
      "text/plain": [
       "<Figure size 640x480 with 2 Axes>"
      ]
     },
     "metadata": {},
     "output_type": "display_data"
    }
   ],
   "source": [
    "svc_df=pd.DataFrame(svc_cm,index=lbls,columns=lbls)\n",
    "sn.heatmap(svc_df,annot=True,fmt='d')"
   ]
  },
  {
   "cell_type": "markdown",
   "metadata": {},
   "source": [
    "Decision Tree heatmap"
   ]
  },
  {
   "cell_type": "code",
   "execution_count": 36,
   "metadata": {},
   "outputs": [
    {
     "data": {
      "text/plain": [
       "<Axes: >"
      ]
     },
     "execution_count": 36,
     "metadata": {},
     "output_type": "execute_result"
    },
    {
     "data": {
      "image/png": "[encoded data removed]",
      "text/plain": [
       "<Figure size 640x480 with 2 Axes>"
      ]
     },
     "metadata": {},
     "output_type": "display_data"
    }
   ],
   "source": [
    "dec_df=pd.DataFrame(dec_cm,index=lbls,columns=lbls)\n",
    "sn.heatmap(dec_df,annot=True,fmt='d')"
   ]
  },
  {
   "cell_type": "markdown",
   "metadata": {},
   "source": [
    "Naive bayes heatmap"
   ]
  },
  {
   "cell_type": "code",
   "execution_count": 37,
   "metadata": {},
   "outputs": [
    {
     "data": {
      "text/plain": [
       "<Axes: >"
      ]
     },
     "execution_count": 37,
     "metadata": {},
     "output_type": "execute_result"
    },
    {
     "data": {
      "image/png": "[encoded data removed]",
      "text/plain": [
       "<Figure size 640x480 with 2 Axes>"
      ]
     },
     "metadata": {},
     "output_type": "display_data"
    }
   ],
   "source": [
    "nvb_df=pd.DataFrame(nvb_cm,index=lbls,columns=lbls)\n",
    "sn.heatmap(nvb_df,annot=True,fmt='d')"
   ]
  },
  {
   "cell_type": "markdown",
   "metadata": {},
   "source": [
    "Logistic regression heat map"
   ]
  },
  {
   "cell_type": "code",
   "execution_count": 38,
   "metadata": {},
   "outputs": [
    {
     "data": {
      "text/plain": [
       "<Axes: >"
      ]
     },
     "execution_count": 38,
     "metadata": {},
     "output_type": "execute_result"
    },
    {
     "data": {
      "image/png": "[encoded data removed]",
      "text/plain": [
       "<Figure size 640x480 with 2 Axes>"
      ]
     },
     "metadata": {},
     "output_type": "display_data"
    }
   ],
   "source": [
    "log_df=pd.DataFrame(log_cm,index=lbls,columns=lbls)\n",
    "sn.heatmap(log_df,annot=True,fmt='d')"
   ]
  },
  {
   "cell_type": "code",
   "execution_count": null,
   "metadata": {},
   "outputs": [],
   "source": []
  }
 ],
 "metadata": {
  "kernelspec": {
   "display_name": "Python 3",
   "language": "python",
   "name": "python3"
  },
  "language_info": {
   "codemirror_mode": {
    "name": "ipython",
    "version": 3
   },
   "file_extension": ".py",
   "mimetype": "text/x-python",
   "name": "python",
   "nbconvert_exporter": "python",
   "pygments_lexer": "ipython3",
   "version": "3.12.0"
  }
 },
 "nbformat": 4,
 "nbformat_minor": 2
}
